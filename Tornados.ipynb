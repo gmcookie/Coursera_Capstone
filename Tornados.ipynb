{
 "cells": [
  {
   "cell_type": "markdown",
   "metadata": {},
   "source": [
    "# Capstone Project Week 1 Assignment"
   ]
  },
  {
   "cell_type": "markdown",
   "metadata": {},
   "source": [
    "# Tornados and Trailer Parks"
   ]
  },
  {
   "cell_type": "markdown",
   "metadata": {},
   "source": [
    "It is a well-known fact that when a tornado touches down the first thing it does is ask for \n",
    "directions to the nearest trailer park.  This is an unfortunate thing for people who live in trailer \n",
    "parks (as I did when I was a kid).  \n",
    "\n",
    "There is a dataset out there that contains statistical information on every tornado in the US from \n",
    "1950 to 2015.  So it occurred to me that this data might be useful in determining the best place to \n",
    "build a trailer park in the US.\n",
    "\n",
    "Now I have come to understand from reputable sources that tornados are spawned as a result of pre-\n",
    "existing conditions.  They don't actually get to choose where they are going to touchdown.  So they\n",
    "can't in a targeted way just drop in on a specific trailer park.\n",
    "\n",
    "Therefore, there must exist some optimal location to build a trailer park which is removed from the\n",
    "areas where tornados frequently spawn.\n",
    "\n",
    "Our goal in this effort is to find that sweet spot if.  This information should prove invaluable not \n",
    "only to developers who are looking to build new trailer parks, but to trailer owners who are looking \n",
    "for a place to park them."
   ]
  },
  {
   "cell_type": "markdown",
   "metadata": {},
   "source": [
    "# Import our tornados .csv file into a pandas dataset"
   ]
  },
  {
   "cell_type": "code",
   "execution_count": 73,
   "metadata": {},
   "outputs": [
    {
     "data": {
      "text/html": [
       "<div>\n",
       "<style scoped>\n",
       "    .dataframe tbody tr th:only-of-type {\n",
       "        vertical-align: middle;\n",
       "    }\n",
       "\n",
       "    .dataframe tbody tr th {\n",
       "        vertical-align: top;\n",
       "    }\n",
       "\n",
       "    .dataframe thead th {\n",
       "        text-align: right;\n",
       "    }\n",
       "</style>\n",
       "<table border=\"1\" class=\"dataframe\">\n",
       "  <thead>\n",
       "    <tr style=\"text-align: right;\">\n",
       "      <th></th>\n",
       "      <th>om</th>\n",
       "      <th>yr</th>\n",
       "      <th>mo</th>\n",
       "      <th>dy</th>\n",
       "      <th>date</th>\n",
       "      <th>time</th>\n",
       "      <th>tz</th>\n",
       "      <th>st</th>\n",
       "      <th>stf</th>\n",
       "      <th>stn</th>\n",
       "      <th>...</th>\n",
       "      <th>fat</th>\n",
       "      <th>loss</th>\n",
       "      <th>closs</th>\n",
       "      <th>slat</th>\n",
       "      <th>slon</th>\n",
       "      <th>elat</th>\n",
       "      <th>elon</th>\n",
       "      <th>len</th>\n",
       "      <th>wid</th>\n",
       "      <th>fc</th>\n",
       "    </tr>\n",
       "  </thead>\n",
       "  <tbody>\n",
       "    <tr>\n",
       "      <th>0</th>\n",
       "      <td>1</td>\n",
       "      <td>1950</td>\n",
       "      <td>1</td>\n",
       "      <td>3</td>\n",
       "      <td>1/3/1950</td>\n",
       "      <td>11:00:00</td>\n",
       "      <td>3</td>\n",
       "      <td>MO</td>\n",
       "      <td>29</td>\n",
       "      <td>1</td>\n",
       "      <td>...</td>\n",
       "      <td>0</td>\n",
       "      <td>6.0</td>\n",
       "      <td>0.0</td>\n",
       "      <td>38.77</td>\n",
       "      <td>-90.22</td>\n",
       "      <td>38.83</td>\n",
       "      <td>-90.03</td>\n",
       "      <td>9.5</td>\n",
       "      <td>150</td>\n",
       "      <td>0</td>\n",
       "    </tr>\n",
       "    <tr>\n",
       "      <th>1</th>\n",
       "      <td>2</td>\n",
       "      <td>1950</td>\n",
       "      <td>1</td>\n",
       "      <td>3</td>\n",
       "      <td>1/3/1950</td>\n",
       "      <td>11:55:00</td>\n",
       "      <td>3</td>\n",
       "      <td>IL</td>\n",
       "      <td>17</td>\n",
       "      <td>2</td>\n",
       "      <td>...</td>\n",
       "      <td>0</td>\n",
       "      <td>5.0</td>\n",
       "      <td>0.0</td>\n",
       "      <td>39.10</td>\n",
       "      <td>-89.30</td>\n",
       "      <td>39.12</td>\n",
       "      <td>-89.23</td>\n",
       "      <td>3.6</td>\n",
       "      <td>130</td>\n",
       "      <td>0</td>\n",
       "    </tr>\n",
       "    <tr>\n",
       "      <th>2</th>\n",
       "      <td>3</td>\n",
       "      <td>1950</td>\n",
       "      <td>1</td>\n",
       "      <td>3</td>\n",
       "      <td>1/3/1950</td>\n",
       "      <td>16:00:00</td>\n",
       "      <td>3</td>\n",
       "      <td>OH</td>\n",
       "      <td>39</td>\n",
       "      <td>1</td>\n",
       "      <td>...</td>\n",
       "      <td>0</td>\n",
       "      <td>4.0</td>\n",
       "      <td>0.0</td>\n",
       "      <td>40.88</td>\n",
       "      <td>-84.58</td>\n",
       "      <td>0.00</td>\n",
       "      <td>0.00</td>\n",
       "      <td>0.1</td>\n",
       "      <td>10</td>\n",
       "      <td>0</td>\n",
       "    </tr>\n",
       "    <tr>\n",
       "      <th>3</th>\n",
       "      <td>4</td>\n",
       "      <td>1950</td>\n",
       "      <td>1</td>\n",
       "      <td>13</td>\n",
       "      <td>1/13/1950</td>\n",
       "      <td>5:25:00</td>\n",
       "      <td>3</td>\n",
       "      <td>AR</td>\n",
       "      <td>5</td>\n",
       "      <td>1</td>\n",
       "      <td>...</td>\n",
       "      <td>1</td>\n",
       "      <td>3.0</td>\n",
       "      <td>0.0</td>\n",
       "      <td>34.40</td>\n",
       "      <td>-94.37</td>\n",
       "      <td>0.00</td>\n",
       "      <td>0.00</td>\n",
       "      <td>0.6</td>\n",
       "      <td>17</td>\n",
       "      <td>0</td>\n",
       "    </tr>\n",
       "    <tr>\n",
       "      <th>4</th>\n",
       "      <td>5</td>\n",
       "      <td>1950</td>\n",
       "      <td>1</td>\n",
       "      <td>25</td>\n",
       "      <td>1/25/1950</td>\n",
       "      <td>19:30:00</td>\n",
       "      <td>3</td>\n",
       "      <td>MO</td>\n",
       "      <td>29</td>\n",
       "      <td>2</td>\n",
       "      <td>...</td>\n",
       "      <td>0</td>\n",
       "      <td>5.0</td>\n",
       "      <td>0.0</td>\n",
       "      <td>37.60</td>\n",
       "      <td>-90.68</td>\n",
       "      <td>37.63</td>\n",
       "      <td>-90.65</td>\n",
       "      <td>2.3</td>\n",
       "      <td>300</td>\n",
       "      <td>0</td>\n",
       "    </tr>\n",
       "  </tbody>\n",
       "</table>\n",
       "<p>5 rows × 22 columns</p>\n",
       "</div>"
      ],
      "text/plain": [
       "   om    yr  mo  dy       date      time  tz  st  stf  stn ...  fat  loss  \\\n",
       "0   1  1950   1   3   1/3/1950  11:00:00   3  MO   29    1 ...    0   6.0   \n",
       "1   2  1950   1   3   1/3/1950  11:55:00   3  IL   17    2 ...    0   5.0   \n",
       "2   3  1950   1   3   1/3/1950  16:00:00   3  OH   39    1 ...    0   4.0   \n",
       "3   4  1950   1  13  1/13/1950   5:25:00   3  AR    5    1 ...    1   3.0   \n",
       "4   5  1950   1  25  1/25/1950  19:30:00   3  MO   29    2 ...    0   5.0   \n",
       "\n",
       "   closs   slat   slon   elat   elon  len  wid  fc  \n",
       "0    0.0  38.77 -90.22  38.83 -90.03  9.5  150   0  \n",
       "1    0.0  39.10 -89.30  39.12 -89.23  3.6  130   0  \n",
       "2    0.0  40.88 -84.58   0.00   0.00  0.1   10   0  \n",
       "3    0.0  34.40 -94.37   0.00   0.00  0.6   17   0  \n",
       "4    0.0  37.60 -90.68  37.63 -90.65  2.3  300   0  \n",
       "\n",
       "[5 rows x 22 columns]"
      ]
     },
     "execution_count": 73,
     "metadata": {},
     "output_type": "execute_result"
    }
   ],
   "source": [
    "import pandas as pd\n",
    "\n",
    "df = pd.read_csv (r'Capstone/Tornadoes_SPC_1950to2015.csv')\n",
    "\n",
    "df.head()"
   ]
  },
  {
   "cell_type": "markdown",
   "metadata": {},
   "source": [
    "So the fields in this dataset are as follows:\n",
    "om = tornado number within a given year\n",
    "yr = year\n",
    "mo = month\n",
    "dy = day\n",
    "date = date in MM/DD/YYYY format\n",
    "time = time of tornado 'birth'\n",
    "tz = time zone\n",
    "st = State\n",
    "stf = a numeric code for the state (we'll drop this column as we don't need it)\n",
    "stn = the number of this tornado in it's home state in a given year\n",
    "mag = magnitude of tornado on the EF scale (F0 - F5)\n",
    "inj = number of injuries\n",
    "fat = number of fatalities\n",
    "loss = property loss where 1 <= $50, 2 <= $500, 3 <= $5,000, 4 <= $50,000, 5 <= $500,000 and so on.\n",
    "closs = crop loss\n",
    "slat = starting latitude\n",
    "slon = starting longitude\n",
    "elat = ending latitude\n",
    "elon = ending longitude (not to be confused with Elon Musk)\n",
    "len = length in miles\n",
    "wid = width in yards\n",
    "fc = a composite code that contains info on multiple states affected.  Earlier entries lack this so we will drop it."
   ]
  },
  {
   "cell_type": "markdown",
   "metadata": {},
   "source": [
    "# Drop the columns we don't need"
   ]
  },
  {
   "cell_type": "code",
   "execution_count": 74,
   "metadata": {},
   "outputs": [
    {
     "data": {
      "text/html": [
       "<div>\n",
       "<style scoped>\n",
       "    .dataframe tbody tr th:only-of-type {\n",
       "        vertical-align: middle;\n",
       "    }\n",
       "\n",
       "    .dataframe tbody tr th {\n",
       "        vertical-align: top;\n",
       "    }\n",
       "\n",
       "    .dataframe thead th {\n",
       "        text-align: right;\n",
       "    }\n",
       "</style>\n",
       "<table border=\"1\" class=\"dataframe\">\n",
       "  <thead>\n",
       "    <tr style=\"text-align: right;\">\n",
       "      <th></th>\n",
       "      <th>om</th>\n",
       "      <th>yr</th>\n",
       "      <th>mo</th>\n",
       "      <th>dy</th>\n",
       "      <th>date</th>\n",
       "      <th>time</th>\n",
       "      <th>tz</th>\n",
       "      <th>st</th>\n",
       "      <th>stn</th>\n",
       "      <th>mag</th>\n",
       "      <th>inj</th>\n",
       "      <th>fat</th>\n",
       "      <th>loss</th>\n",
       "      <th>closs</th>\n",
       "      <th>slat</th>\n",
       "      <th>slon</th>\n",
       "      <th>elat</th>\n",
       "      <th>elon</th>\n",
       "      <th>len</th>\n",
       "      <th>wid</th>\n",
       "    </tr>\n",
       "  </thead>\n",
       "  <tbody>\n",
       "    <tr>\n",
       "      <th>0</th>\n",
       "      <td>1</td>\n",
       "      <td>1950</td>\n",
       "      <td>1</td>\n",
       "      <td>3</td>\n",
       "      <td>1/3/1950</td>\n",
       "      <td>11:00:00</td>\n",
       "      <td>3</td>\n",
       "      <td>MO</td>\n",
       "      <td>1</td>\n",
       "      <td>3</td>\n",
       "      <td>3</td>\n",
       "      <td>0</td>\n",
       "      <td>6.0</td>\n",
       "      <td>0.0</td>\n",
       "      <td>38.77</td>\n",
       "      <td>-90.22</td>\n",
       "      <td>38.83</td>\n",
       "      <td>-90.03</td>\n",
       "      <td>9.5</td>\n",
       "      <td>150</td>\n",
       "    </tr>\n",
       "    <tr>\n",
       "      <th>1</th>\n",
       "      <td>2</td>\n",
       "      <td>1950</td>\n",
       "      <td>1</td>\n",
       "      <td>3</td>\n",
       "      <td>1/3/1950</td>\n",
       "      <td>11:55:00</td>\n",
       "      <td>3</td>\n",
       "      <td>IL</td>\n",
       "      <td>2</td>\n",
       "      <td>3</td>\n",
       "      <td>3</td>\n",
       "      <td>0</td>\n",
       "      <td>5.0</td>\n",
       "      <td>0.0</td>\n",
       "      <td>39.10</td>\n",
       "      <td>-89.30</td>\n",
       "      <td>39.12</td>\n",
       "      <td>-89.23</td>\n",
       "      <td>3.6</td>\n",
       "      <td>130</td>\n",
       "    </tr>\n",
       "    <tr>\n",
       "      <th>2</th>\n",
       "      <td>3</td>\n",
       "      <td>1950</td>\n",
       "      <td>1</td>\n",
       "      <td>3</td>\n",
       "      <td>1/3/1950</td>\n",
       "      <td>16:00:00</td>\n",
       "      <td>3</td>\n",
       "      <td>OH</td>\n",
       "      <td>1</td>\n",
       "      <td>1</td>\n",
       "      <td>1</td>\n",
       "      <td>0</td>\n",
       "      <td>4.0</td>\n",
       "      <td>0.0</td>\n",
       "      <td>40.88</td>\n",
       "      <td>-84.58</td>\n",
       "      <td>0.00</td>\n",
       "      <td>0.00</td>\n",
       "      <td>0.1</td>\n",
       "      <td>10</td>\n",
       "    </tr>\n",
       "    <tr>\n",
       "      <th>3</th>\n",
       "      <td>4</td>\n",
       "      <td>1950</td>\n",
       "      <td>1</td>\n",
       "      <td>13</td>\n",
       "      <td>1/13/1950</td>\n",
       "      <td>5:25:00</td>\n",
       "      <td>3</td>\n",
       "      <td>AR</td>\n",
       "      <td>1</td>\n",
       "      <td>3</td>\n",
       "      <td>1</td>\n",
       "      <td>1</td>\n",
       "      <td>3.0</td>\n",
       "      <td>0.0</td>\n",
       "      <td>34.40</td>\n",
       "      <td>-94.37</td>\n",
       "      <td>0.00</td>\n",
       "      <td>0.00</td>\n",
       "      <td>0.6</td>\n",
       "      <td>17</td>\n",
       "    </tr>\n",
       "    <tr>\n",
       "      <th>4</th>\n",
       "      <td>5</td>\n",
       "      <td>1950</td>\n",
       "      <td>1</td>\n",
       "      <td>25</td>\n",
       "      <td>1/25/1950</td>\n",
       "      <td>19:30:00</td>\n",
       "      <td>3</td>\n",
       "      <td>MO</td>\n",
       "      <td>2</td>\n",
       "      <td>2</td>\n",
       "      <td>5</td>\n",
       "      <td>0</td>\n",
       "      <td>5.0</td>\n",
       "      <td>0.0</td>\n",
       "      <td>37.60</td>\n",
       "      <td>-90.68</td>\n",
       "      <td>37.63</td>\n",
       "      <td>-90.65</td>\n",
       "      <td>2.3</td>\n",
       "      <td>300</td>\n",
       "    </tr>\n",
       "  </tbody>\n",
       "</table>\n",
       "</div>"
      ],
      "text/plain": [
       "   om    yr  mo  dy       date      time  tz  st  stn  mag  inj  fat  loss  \\\n",
       "0   1  1950   1   3   1/3/1950  11:00:00   3  MO    1    3    3    0   6.0   \n",
       "1   2  1950   1   3   1/3/1950  11:55:00   3  IL    2    3    3    0   5.0   \n",
       "2   3  1950   1   3   1/3/1950  16:00:00   3  OH    1    1    1    0   4.0   \n",
       "3   4  1950   1  13  1/13/1950   5:25:00   3  AR    1    3    1    1   3.0   \n",
       "4   5  1950   1  25  1/25/1950  19:30:00   3  MO    2    2    5    0   5.0   \n",
       "\n",
       "   closs   slat   slon   elat   elon  len  wid  \n",
       "0    0.0  38.77 -90.22  38.83 -90.03  9.5  150  \n",
       "1    0.0  39.10 -89.30  39.12 -89.23  3.6  130  \n",
       "2    0.0  40.88 -84.58   0.00   0.00  0.1   10  \n",
       "3    0.0  34.40 -94.37   0.00   0.00  0.6   17  \n",
       "4    0.0  37.60 -90.68  37.63 -90.65  2.3  300  "
      ]
     },
     "execution_count": 74,
     "metadata": {},
     "output_type": "execute_result"
    }
   ],
   "source": [
    "df = df.drop([\"stf\", \"fc\"], axis=1)\n",
    "\n",
    "df.head()"
   ]
  },
  {
   "cell_type": "markdown",
   "metadata": {},
   "source": [
    "# How many tornados in our dataframe?"
   ]
  },
  {
   "cell_type": "code",
   "execution_count": 75,
   "metadata": {},
   "outputs": [
    {
     "data": {
      "text/plain": [
       "(60114, 20)"
      ]
     },
     "execution_count": 75,
     "metadata": {},
     "output_type": "execute_result"
    }
   ],
   "source": [
    "df.shape"
   ]
  },
  {
   "cell_type": "markdown",
   "metadata": {},
   "source": [
    "Hmmm...  Sixty thousand tornados.  If we are going to plot these on a map it's going to be pretty \n",
    "cluttered.  In fact we won't be able to see much else other than the black dots marking the tornados.\n",
    "\n",
    "So perhaps we should group these tornados into clusters of tornados that occured in close proximity \n",
    "with each other, then plot the centerpoint of those clusters.\n",
    "\n",
    "In AI we typically use a statistical method called k-means clustering to produce groupings like that.\n",
    "In k-means clustering we group tornados (in this case) around a central point for each cluster that\n",
    "is chosen to minimize the sum of the distances between the cluster center point and each of the \n",
    "tornados in that given cluster.  But how many clusters should we be creating?\n",
    "\n",
    "If we created sixty thousand clusters - one for each tornado, the distance between the cluster \n",
    "center and the tornado would be zero.  So that would be a good fit for the data.  But then we lose\n",
    "the whole reason we wanted to cluster in the first place because we would still have sixty thousand \n",
    "points to plot on our map.\n",
    "\n",
    "So part of it comes down to the aesthetics of the map.  We don't want too few clusters (three or four\n",
    "wouldn't make for an effective map.)  On the other hand we don't want too many.  So from an asthetics\n",
    "viewpoint the correct number of clusters is probably somewhere between a hundred and a thousand.\n",
    "\n",
    "But it's not all about aesthetics either.  We want to select a number of clusters that accurately\n",
    "reflects the geo locations of the tornados while preserving the integrity of the data by not over-\n",
    "averaging.\n",
    "\n",
    "We will come back to picking the optimum number of clusters later.  Let's get started by setting up\n",
    "and training our k-means engine."
   ]
  },
  {
   "cell_type": "markdown",
   "metadata": {},
   "source": [
    "# Import helpful libraries"
   ]
  },
  {
   "cell_type": "code",
   "execution_count": 76,
   "metadata": {},
   "outputs": [],
   "source": [
    "import random \n",
    "import numpy as np \n",
    "import matplotlib.pyplot as plt \n",
    "from sklearn.cluster import KMeans \n",
    "from sklearn.datasets.samples_generator import make_blobs \n",
    "%matplotlib inline"
   ]
  },
  {
   "cell_type": "markdown",
   "metadata": {},
   "source": [
    "# Create a dataset that contains only the starting latitude and longitude"
   ]
  },
  {
   "cell_type": "code",
   "execution_count": 77,
   "metadata": {},
   "outputs": [
    {
     "data": {
      "text/html": [
       "<div>\n",
       "<style scoped>\n",
       "    .dataframe tbody tr th:only-of-type {\n",
       "        vertical-align: middle;\n",
       "    }\n",
       "\n",
       "    .dataframe tbody tr th {\n",
       "        vertical-align: top;\n",
       "    }\n",
       "\n",
       "    .dataframe thead th {\n",
       "        text-align: right;\n",
       "    }\n",
       "</style>\n",
       "<table border=\"1\" class=\"dataframe\">\n",
       "  <thead>\n",
       "    <tr style=\"text-align: right;\">\n",
       "      <th></th>\n",
       "      <th>slat</th>\n",
       "      <th>slon</th>\n",
       "    </tr>\n",
       "  </thead>\n",
       "  <tbody>\n",
       "    <tr>\n",
       "      <th>0</th>\n",
       "      <td>38.77</td>\n",
       "      <td>-90.22</td>\n",
       "    </tr>\n",
       "    <tr>\n",
       "      <th>1</th>\n",
       "      <td>39.10</td>\n",
       "      <td>-89.30</td>\n",
       "    </tr>\n",
       "    <tr>\n",
       "      <th>2</th>\n",
       "      <td>40.88</td>\n",
       "      <td>-84.58</td>\n",
       "    </tr>\n",
       "    <tr>\n",
       "      <th>3</th>\n",
       "      <td>34.40</td>\n",
       "      <td>-94.37</td>\n",
       "    </tr>\n",
       "    <tr>\n",
       "      <th>4</th>\n",
       "      <td>37.60</td>\n",
       "      <td>-90.68</td>\n",
       "    </tr>\n",
       "  </tbody>\n",
       "</table>\n",
       "</div>"
      ],
      "text/plain": [
       "    slat   slon\n",
       "0  38.77 -90.22\n",
       "1  39.10 -89.30\n",
       "2  40.88 -84.58\n",
       "3  34.40 -94.37\n",
       "4  37.60 -90.68"
      ]
     },
     "execution_count": 77,
     "metadata": {},
     "output_type": "execute_result"
    }
   ],
   "source": [
    "latlong = df[['slat', 'slon']].copy()\n",
    "latlong.head()"
   ]
  },
  {
   "cell_type": "code",
   "execution_count": 78,
   "metadata": {},
   "outputs": [
    {
     "data": {
      "text/plain": [
       "(60114, 2)"
      ]
     },
     "execution_count": 78,
     "metadata": {},
     "output_type": "execute_result"
    }
   ],
   "source": [
    "latlong.shape"
   ]
  },
  {
   "cell_type": "markdown",
   "metadata": {},
   "source": [
    "So we now have two datasets.  The first one contains statistical information on all the \n",
    "tornados that ocurred in the US between 1950 and 2015.  The second dataset contains\n",
    "only the starting latitude and longitude for each tornado which will be helpful for\n",
    "plotting points on a map.\n",
    "\n",
    "In week 2 we will pare down the number of events to something more suitable for\n",
    "plotting on a map by using a k-means model to group each tornado into clusters of \n",
    "tornados that spawned at or near the same points.  We will then find and plot the \n",
    "centers of those clusters instead of plotting each individual tornado.\n",
    "\n",
    "This data will be useful information for anybody looking to build a trailer park,\n",
    "but could also be a life saver for people who own trailers and are looking for \n",
    "places to park them."
   ]
  },
  {
   "cell_type": "markdown",
   "metadata": {},
   "source": [
    "# End of Capstone Project Week 1 Assignment"
   ]
  },
  {
   "cell_type": "code",
   "execution_count": null,
   "metadata": {},
   "outputs": [],
   "source": []
  },
  {
   "cell_type": "markdown",
   "metadata": {},
   "source": [
    "# Capstone Project Week 2 Assignment"
   ]
  },
  {
   "cell_type": "markdown",
   "metadata": {},
   "source": [
    "# Let's plot that just for the fun of it"
   ]
  },
  {
   "cell_type": "code",
   "execution_count": 71,
   "metadata": {},
   "outputs": [
    {
     "data": {
      "image/png": "[encoded data removed]",
      "text/plain": [
       "<Figure size 432x288 with 1 Axes>"
      ]
     },
     "metadata": {
      "needs_background": "light"
     },
     "output_type": "display_data"
    }
   ],
   "source": [
    "p = plt.scatter(latlong.iloc[:, 1], latlong.iloc[:, 0], marker='.')\n",
    "\n",
    "plt.show()"
   ]
  },
  {
   "cell_type": "markdown",
   "metadata": {},
   "source": [
    "Just as we suspected, that's pretty dense data.  We definately need to do some clustering before we \n",
    "overlay this on our map.\n",
    "\n",
    "Fine, so now back to the question of the optimal number of clusters.\n",
    "\n",
    "There is a way to figue out the optimal number.  But for now let's just set up a k-means model and \n",
    "train it on our data using an arbitrary 100 clusters (just to get everything working)."
   ]
  },
  {
   "cell_type": "code",
   "execution_count": 52,
   "metadata": {},
   "outputs": [],
   "source": [
    "k_means = KMeans(init = \"k-means++\", n_clusters = 100, n_init = 12)\n"
   ]
  },
  {
   "cell_type": "markdown",
   "metadata": {},
   "source": [
    "So in that line we set our number of clusters to 100 and n_init to 12.  n_init tells the \n",
    "model how many times it needs to iterate the calculations for each cluster, moving the \n",
    "center on each iteration in order to find the minimum average deviation of each tornado\n",
    "from the cluster center.  In other words 12 iterations should be enough to find the \n",
    "optimum center of each of our 100 clusters.\n",
    "\n",
    "Now it's time to fit our data to the k-means model.  With 60 thousand tornados, 100 \n",
    "clusters and 12 iterations per cluster this may take a while.  It takes about 5 minutes\n",
    "on my Windows 10 PC.  It would be faster on my Ubuntu box but I have that one torn apart."
   ]
  },
  {
   "cell_type": "code",
   "execution_count": 53,
   "metadata": {},
   "outputs": [
    {
     "data": {
      "text/plain": [
       "KMeans(algorithm='auto', copy_x=True, init='k-means++', max_iter=300,\n",
       "    n_clusters=100, n_init=12, n_jobs=None, precompute_distances='auto',\n",
       "    random_state=None, tol=0.0001, verbose=0)"
      ]
     },
     "execution_count": 53,
     "metadata": {},
     "output_type": "execute_result"
    }
   ],
   "source": [
    "k_means.fit(latlong)"
   ]
  },
  {
   "cell_type": "markdown",
   "metadata": {},
   "source": [
    "# It worked!  Let's see where it put the cluster centers."
   ]
  },
  {
   "cell_type": "markdown",
   "metadata": {},
   "source": [
    "Let's grab the labels for each point in the model using KMeans' .labels_ attribute and \n",
    "save it as k_means_labels"
   ]
  },
  {
   "cell_type": "code",
   "execution_count": 54,
   "metadata": {},
   "outputs": [
    {
     "data": {
      "text/plain": [
       "array([93, 45, 44, ..., 68, 34, 14])"
      ]
     },
     "execution_count": 54,
     "metadata": {},
     "output_type": "execute_result"
    }
   ],
   "source": [
    "k_means_labels = k_means.labels_\n",
    "k_means_labels"
   ]
  },
  {
   "cell_type": "markdown",
   "metadata": {},
   "source": [
    "We will also get the coordinates of the cluster centers using KMeans' .cluster_centers_ and \n",
    "save it as k_means_cluster_centers"
   ]
  },
  {
   "cell_type": "code",
   "execution_count": 55,
   "metadata": {},
   "outputs": [
    {
     "data": {
      "text/plain": [
       "array([[  30.07506897,  -82.14189655],\n",
       "       [  39.40973422,  -99.96883721],\n",
       "       [  38.66424658,  -87.37322679],\n",
       "       [  29.63186047,  -99.14645995],\n",
       "       [  40.18576389,  -75.08956019],\n",
       "       [  47.17924419, -110.05436047],\n",
       "       [  35.30620733,  -95.27993679],\n",
       "       [  42.9697619 ,  -95.54122024],\n",
       "       [  33.8030687 ,  -88.52027481],\n",
       "       [  36.93333333, -114.23985507],\n",
       "       [  21.09341463, -157.56731707],\n",
       "       [  47.40619718, -101.56223592],\n",
       "       [  32.34947894, -100.07058758],\n",
       "       [  40.9839726 ,  -79.94608611],\n",
       "       [  35.22409968,  -79.31988746],\n",
       "       [  30.56235149,  -92.65668317],\n",
       "       [  43.8584689 ,  -85.0657177 ],\n",
       "       [  37.71464748, -100.77198561],\n",
       "       [  42.57990099, -116.19633663],\n",
       "       [  41.60606354, -103.89494475],\n",
       "       [  37.68106767,  -92.72837594],\n",
       "       [  44.64453283,  -93.41973485],\n",
       "       [  38.18613139,  -96.99054745],\n",
       "       [  34.37696108,  -84.27050898],\n",
       "       [  47.31243993,  -95.95539741],\n",
       "       [  38.09581967, -121.04512295],\n",
       "       [  32.44124183,  -95.05572549],\n",
       "       [  34.32713311,  -98.93746303],\n",
       "       [  26.22022989,  -80.59596264],\n",
       "       [  35.62791209,  -90.51542582],\n",
       "       [  42.23008424,  -90.9822864 ],\n",
       "       [  33.87161857,  -96.74590966],\n",
       "       [  45.13609756,  -69.45536585],\n",
       "       [  29.92106502,  -95.01039238],\n",
       "       [  30.83882698,  -87.44772727],\n",
       "       [  37.69138648,  -77.24540728],\n",
       "       [  31.82532905, -102.8165008 ],\n",
       "       [  30.39729974,  -90.18655039],\n",
       "       [  38.25855183,  -84.76196646],\n",
       "       [  44.02721675, -102.90916256],\n",
       "       [  40.1588253 ,  -82.80650602],\n",
       "       [  31.98866209,  -83.41656947],\n",
       "       [  41.98543184,  -93.515359  ],\n",
       "       [  34.01630996, -102.20598708],\n",
       "       [  40.57871397,  -85.83303769],\n",
       "       [  40.19666667,  -89.25236257],\n",
       "       [  43.38535714, -112.6610119 ],\n",
       "       [  45.40014925, -122.65880597],\n",
       "       [  40.86147135,  -96.22509115],\n",
       "       [  18.29833333,  -66.68791667],\n",
       "       [  34.02219895, -117.69617801],\n",
       "       [  36.54317384,  -88.64877193],\n",
       "       [  43.18801378,  -97.64769231],\n",
       "       [  59.225     , -157.625     ],\n",
       "       [  36.09933219,  -99.34491438],\n",
       "       [  35.876125  ,  -97.39703571],\n",
       "       [  34.18621849, -105.81987395],\n",
       "       [  34.36983668,  -86.73919598],\n",
       "       [  32.8516035 ,  -93.44603499],\n",
       "       [  42.34576324,  -76.26657321],\n",
       "       [  27.47777108,  -97.79524096],\n",
       "       [  45.3573399 ,  -91.0187931 ],\n",
       "       [  34.9571959 ,  -92.50485275],\n",
       "       [  39.62534221,  -77.1660076 ],\n",
       "       [  30.73032103,  -85.19399679],\n",
       "       [  39.37881176,  -94.77176471],\n",
       "       [  47.6104717 , -105.12113208],\n",
       "       [  47.94745734,  -98.20754266],\n",
       "       [  32.08707169,  -89.52365735],\n",
       "       [  28.57528785,  -81.12127932],\n",
       "       [  39.65824561, -104.49900277],\n",
       "       [  33.7026009 , -111.49255605],\n",
       "       [  45.72632799,  -98.78504456],\n",
       "       [  40.17384106, -110.46953642],\n",
       "       [  42.42470486,  -83.84819444],\n",
       "       [  37.49730769, -102.99463563],\n",
       "       [  42.5229703 ,  -72.48362376],\n",
       "       [  32.18328713,  -97.47754455],\n",
       "       [  35.546826  ,  -81.83055449],\n",
       "       [  41.1351215 , -100.98471028],\n",
       "       [  36.95047382,  -94.95822943],\n",
       "       [  43.6329646 , -100.12674779],\n",
       "       [  35.51863938, -101.24575221],\n",
       "       [  41.39651969,  -87.97562205],\n",
       "       [  40.62749533,  -98.31283178],\n",
       "       [  39.59400517, -102.29837209],\n",
       "       [  32.62450512,  -86.05832765],\n",
       "       [  43.89010796,  -88.80859649],\n",
       "       [  45.17265537,  -95.96348399],\n",
       "       [  46.97311321, -117.72896226],\n",
       "       [  32.81868217,  -91.14302326],\n",
       "       [  36.30330081,  -86.22469919],\n",
       "       [  43.92930723, -106.40439759],\n",
       "       [  38.23266491,  -90.01629288],\n",
       "       [  33.36263456,  -80.99528329],\n",
       "       [  38.05696471,  -98.68635294],\n",
       "       [  35.37833603,  -77.12592892],\n",
       "       [  27.65050314,  -82.2456499 ],\n",
       "       [  29.69953297,  -96.94229396],\n",
       "       [  40.09669477,  -91.67806071]])"
      ]
     },
     "execution_count": 55,
     "metadata": {},
     "output_type": "execute_result"
    }
   ],
   "source": [
    "k_means_cluster_centers = k_means.cluster_centers_\n",
    "k_means_cluster_centers"
   ]
  },
  {
   "cell_type": "markdown",
   "metadata": {},
   "source": [
    "Let's convert that numpy array into a pandas dataframe for plotting."
   ]
  },
  {
   "cell_type": "code",
   "execution_count": 67,
   "metadata": {},
   "outputs": [
    {
     "name": "stdout",
     "output_type": "stream",
     "text": [
      "     Latitude   Longitude\n",
      "0   30.075069  -82.141897\n",
      "1   39.409734  -99.968837\n",
      "2   38.664247  -87.373227\n",
      "3   29.631860  -99.146460\n",
      "4   40.185764  -75.089560\n",
      "5   47.179244 -110.054360\n",
      "6   35.306207  -95.279937\n",
      "7   42.969762  -95.541220\n",
      "8   33.803069  -88.520275\n",
      "9   36.933333 -114.239855\n",
      "10  21.093415 -157.567317\n",
      "11  47.406197 -101.562236\n",
      "12  32.349479 -100.070588\n",
      "13  40.983973  -79.946086\n",
      "14  35.224100  -79.319887\n",
      "15  30.562351  -92.656683\n",
      "16  43.858469  -85.065718\n",
      "17  37.714647 -100.771986\n",
      "18  42.579901 -116.196337\n",
      "19  41.606064 -103.894945\n",
      "20  37.681068  -92.728376\n",
      "21  44.644533  -93.419735\n",
      "22  38.186131  -96.990547\n",
      "23  34.376961  -84.270509\n",
      "24  47.312440  -95.955397\n",
      "25  38.095820 -121.045123\n",
      "26  32.441242  -95.055725\n",
      "27  34.327133  -98.937463\n",
      "28  26.220230  -80.595963\n",
      "29  35.627912  -90.515426\n",
      "..        ...         ...\n",
      "70  39.658246 -104.499003\n",
      "71  33.702601 -111.492556\n",
      "72  45.726328  -98.785045\n",
      "73  40.173841 -110.469536\n",
      "74  42.424705  -83.848194\n",
      "75  37.497308 -102.994636\n",
      "76  42.522970  -72.483624\n",
      "77  32.183287  -97.477545\n",
      "78  35.546826  -81.830554\n",
      "79  41.135121 -100.984710\n",
      "80  36.950474  -94.958229\n",
      "81  43.632965 -100.126748\n",
      "82  35.518639 -101.245752\n",
      "83  41.396520  -87.975622\n",
      "84  40.627495  -98.312832\n",
      "85  39.594005 -102.298372\n",
      "86  32.624505  -86.058328\n",
      "87  43.890108  -88.808596\n",
      "88  45.172655  -95.963484\n",
      "89  46.973113 -117.728962\n",
      "90  32.818682  -91.143023\n",
      "91  36.303301  -86.224699\n",
      "92  43.929307 -106.404398\n",
      "93  38.232665  -90.016293\n",
      "94  33.362635  -80.995283\n",
      "95  38.056965  -98.686353\n",
      "96  35.378336  -77.125929\n",
      "97  27.650503  -82.245650\n",
      "98  29.699533  -96.942294\n",
      "99  40.096695  -91.678061\n",
      "\n",
      "[100 rows x 2 columns]\n"
     ]
    }
   ],
   "source": [
    "#Creating pandas dataframe from numpy array\n",
    "\n",
    "dataset = pd.DataFrame({'Latitude':k_means_cluster_centers[:,0],'Longitude':k_means_cluster_centers[:,1]})\n",
    "print(dataset)\n"
   ]
  },
  {
   "cell_type": "markdown",
   "metadata": {},
   "source": [
    "# Cool, let's plot the centers of those clusters"
   ]
  },
  {
   "cell_type": "code",
   "execution_count": 72,
   "metadata": {},
   "outputs": [
    {
     "data": {
      "image/png": "[encoded data removed]",
      "text/plain": [
       "<Figure size 432x288 with 1 Axes>"
      ]
     },
     "metadata": {
      "needs_background": "light"
     },
     "output_type": "display_data"
    }
   ],
   "source": [
    "p = plt.scatter(dataset.iloc[:, 1], dataset.iloc[:, 0], marker='.')\n",
    "\n",
    "plt.show()"
   ]
  },
  {
   "cell_type": "markdown",
   "metadata": {},
   "source": [
    "So those are the centers of our 100 clusters.  With 60,000 total tornados, each\n",
    "cluster represents about 600 tornados.  If we went with 1,000 clusters there \n",
    "would be about 60 tornados in each cluster.  But what is the optimum number of\n",
    "clusters to use?"
   ]
  },
  {
   "cell_type": "code",
   "execution_count": null,
   "metadata": {},
   "outputs": [],
   "source": []
  },
  {
   "cell_type": "code",
   "execution_count": null,
   "metadata": {},
   "outputs": [],
   "source": []
  }
 ],
 "metadata": {
  "kernelspec": {
   "display_name": "Python 3",
   "language": "python",
   "name": "python3"
  },
  "language_info": {
   "codemirror_mode": {
    "name": "ipython",
    "version": 3
   },
   "file_extension": ".py",
   "mimetype": "text/x-python",
   "name": "python",
   "nbconvert_exporter": "python",
   "pygments_lexer": "ipython3",
   "version": "3.7.1"
  }
 },
 "nbformat": 4,
 "nbformat_minor": 2
}
